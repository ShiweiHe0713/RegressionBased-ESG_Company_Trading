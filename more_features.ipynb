{
 "cells": [
  {
   "cell_type": "code",
   "execution_count": 31,
   "metadata": {},
   "outputs": [
    {
     "data": {
      "text/plain": [
       "(629, 12)"
      ]
     },
     "execution_count": 31,
     "metadata": {},
     "output_type": "execute_result"
    }
   ],
   "source": [
    "import numpy as np\n",
    "import pandas as pd\n",
    "import matplotlib.pyplot as plt\n",
    "import openpyxl as px\n",
    "from sklearn.model_selection import train_test_split\n",
    "\n",
    "AAPL = pd.read_excel(\"./data/AAPL_EQUITY.xlsx\")\n",
    "SPESG = pd.read_excel(('./data/SPESG_Index_5Y.xlsx')).dropna()\n",
    "\n",
    "# Take SPESG and AAPL and combine them into one data frame: df['Date', 'SPESG', 'AAPL_Px', 'AAPL_Volume', 'AAPL_SMAVG(15)']\n",
    "df = pd.merge(AAPL, SPESG, on='Date', how='inner')\n",
    "new_columns = {'Last Px_x' : 'AAPL_Px', 'Volume': 'AAPL_Volume(M)', 'SMAVG(15)' : 'AAPL_SMAVG15(M)', 'Last Px_y': 'SPESG'}\n",
    "df.rename(columns=new_columns, inplace=True)\n",
    "\n",
    "# Strip M and convert these columns from object into float64\n",
    "df['AAPL_Volume(M)'] = df['AAPL_Volume(M)'].str.strip('M').astype('float64').shift(-1)\n",
    "df['AAPL_SMAVG15(M)'] = df['AAPL_SMAVG15(M)'].str.strip('M').astype('float64').shift(-1)\n",
    "df['SPESG-1'] = df['SPESG'].shift(-1)\n",
    "df['AAPL_Px_Shift-1'] = df['AAPL_Px'].shift(-1)\n",
    "df['Date'] = pd.to_datetime(df['Date'])\n",
    "df['Year'] = df['Date'].dt.year\n",
    "df['Quarter'] = df['Date'].dt.quarter\n",
    "df['Month'] = df['Date'].dt.month\n",
    "df['Day'] = df['Date'].dt.strftime('%A')\n",
    "\n",
    "df['AAPL_ret'] = (df['AAPL_Px'] - df['AAPL_Px_Shift-1']) / df['AAPL_Px_Shift-1']\n",
    "df['AAPL_ret_perc'] = (df['AAPL_ret'] * 100).round(3)\n",
    "\n",
    "weekday_dummies = pd.get_dummies(df['Day']).astype(int)\n",
    "df = pd.concat([df, weekday_dummies], axis=1)\n",
    "df = df.dropna()\n",
    "df.sort_values(by='Date', ascending=True, inplace=True)\n",
    "\n",
    "# features = ['AAPL_Volume(M)', 'AAPL_SMAVG15(M)', 'SPESG', 'Month', 'Year', 'Day']\n",
    "X = df.drop(['Date', 'AAPL_ret','AAPL_ret_perc', 'Day', 'SPESG', 'Year'], axis=1)\n",
    "y = df['AAPL_ret_perc']\n",
    "\n",
    "X_train, X_test, y_train, y_test = train_test_split(X, y, test_size=0.5, random_state=42)\n",
    "X_train.shape"
   ]
  },
  {
   "cell_type": "code",
   "execution_count": 32,
   "metadata": {},
   "outputs": [
    {
     "name": "stdout",
     "output_type": "stream",
     "text": [
      "(629,) (630,)\n"
     ]
    }
   ],
   "source": [
    "print(y_train.shape, y_test.shape)"
   ]
  },
  {
   "cell_type": "code",
   "execution_count": 33,
   "metadata": {},
   "outputs": [
    {
     "name": "stdout",
     "output_type": "stream",
     "text": [
      "r2_train: 0.8932114084227638\n",
      "r2_test: 0.8669541871405926\n",
      "Adjusted R-squared on Training Data: 0.8911311111842463\n",
      "Adjusted R-squared on Test Data: 0.8643623855913833\n"
     ]
    }
   ],
   "source": [
    "from sklearn import linear_model\n",
    "from sklearn.metrics import mean_squared_error, r2_score\n",
    "\n",
    "regressor = linear_model.LinearRegression()\n",
    "regressor.fit(X_train, y_train)\n",
    "\n",
    "# Training set\n",
    "y_pred_train = regressor.predict(X_train)\n",
    "r2_train = r2_score(y_train, y_pred_train)\n",
    "\n",
    "# Test set\n",
    "y_pred_test = regressor.predict(X_test)\n",
    "r2_test = r2_score(y_test, y_pred_test)\n",
    "\n",
    "print(f\"r2_train: {r2_train}\")\n",
    "print(f\"r2_test: {r2_test}\")\n",
    "\n",
    "def adjusted_r2_score(r_squared, n, k):\n",
    "    return 1 - ((1 - r_squared) * (n - 1) / (n - k - 1))\n",
    "\n",
    "n_samples = X_train.shape[0]\n",
    "n_features = X_train.shape[1]\n",
    "\n",
    "adj_r2_train = adjusted_r2_score(r2_train, n_samples, n_features)\n",
    "adj_r2 = adjusted_r2_score(r2_test, n_samples, n_features)\n",
    "print(\"Adjusted R-squared on Training Data:\", adj_r2_train)\n",
    "print(\"Adjusted R-squared on Test Data:\", adj_r2)"
   ]
  },
  {
   "cell_type": "code",
   "execution_count": 34,
   "metadata": {},
   "outputs": [
    {
     "name": "stdout",
     "output_type": "stream",
     "text": [
      "MAE - Train: 0.3485, Test: 0.4202\n",
      "MSE - Train: 0.3460, Test: 0.6378\n",
      "RMSE - Train: 0.5883, Test: 0.7986\n",
      "R2 Score - Train: 0.8932, Test: 0.8670\n"
     ]
    }
   ],
   "source": [
    "from sklearn.metrics import mean_absolute_error, mean_squared_error, r2_score\n",
    "import numpy as np\n",
    "\n",
    "# Assuming y_true_train, y_pred_train, y_true_test, y_pred_test are your actual and predicted values\n",
    "# for both the training and test sets\n",
    "\n",
    "# Mean Absolute Error (MAE)\n",
    "mae_train = mean_absolute_error(y_train, y_pred_train)\n",
    "mae_test = mean_absolute_error(y_test, y_pred_test)\n",
    "\n",
    "# Mean Squared Error (MSE)\n",
    "mse_train = mean_squared_error(y_train, y_pred_train)\n",
    "mse_test = mean_squared_error(y_test, y_pred_test)\n",
    "\n",
    "# Root Mean Squared Error (RMSE)\n",
    "rmse_train = np.sqrt(mse_train)\n",
    "rmse_test = np.sqrt(mse_test)\n",
    "\n",
    "# R2 Score\n",
    "r2_train = r2_score(y_train, y_pred_train)\n",
    "r2_test = r2_score(y_test, y_pred_test)\n",
    "\n",
    "print(\"MAE - Train: {:.4f}, Test: {:.4f}\".format(mae_train, mae_test))\n",
    "print(\"MSE - Train: {:.4f}, Test: {:.4f}\".format(mse_train, mse_test))\n",
    "print(\"RMSE - Train: {:.4f}, Test: {:.4f}\".format(rmse_train, rmse_test))\n",
    "print(\"R2 Score - Train: {:.4f}, Test: {:.4f}\".format(r2_train, r2_test))"
   ]
  },
  {
   "cell_type": "code",
   "execution_count": 70,
   "metadata": {},
   "outputs": [
    {
     "data": {
      "text/html": [
       "<div>\n",
       "<style scoped>\n",
       "    .dataframe tbody tr th:only-of-type {\n",
       "        vertical-align: middle;\n",
       "    }\n",
       "\n",
       "    .dataframe tbody tr th {\n",
       "        vertical-align: top;\n",
       "    }\n",
       "\n",
       "    .dataframe thead th {\n",
       "        text-align: right;\n",
       "    }\n",
       "</style>\n",
       "<table border=\"1\" class=\"dataframe\">\n",
       "  <thead>\n",
       "    <tr style=\"text-align: right;\">\n",
       "      <th></th>\n",
       "      <th>AAPL_Volume(M)</th>\n",
       "      <th>AAPL_SMAVG15(M)</th>\n",
       "      <th>SPESG-1</th>\n",
       "      <th>AAPL_Px_Shift-1</th>\n",
       "      <th>Year</th>\n",
       "      <th>Quarter</th>\n",
       "      <th>Month</th>\n",
       "      <th>Friday</th>\n",
       "      <th>Monday</th>\n",
       "      <th>Thursday</th>\n",
       "      <th>Tuesday</th>\n",
       "      <th>Wednesday</th>\n",
       "    </tr>\n",
       "  </thead>\n",
       "  <tbody>\n",
       "    <tr>\n",
       "      <th>1182</th>\n",
       "      <td>146.190</td>\n",
       "      <td>141.621</td>\n",
       "      <td>237.25</td>\n",
       "      <td>50.688</td>\n",
       "      <td>2019</td>\n",
       "      <td>3</td>\n",
       "      <td>8</td>\n",
       "      <td>0</td>\n",
       "      <td>0</td>\n",
       "      <td>1</td>\n",
       "      <td>0</td>\n",
       "      <td>0</td>\n",
       "    </tr>\n",
       "    <tr>\n",
       "      <th>232</th>\n",
       "      <td>50.747</td>\n",
       "      <td>57.523</td>\n",
       "      <td>367.36</td>\n",
       "      <td>171.560</td>\n",
       "      <td>2023</td>\n",
       "      <td>2</td>\n",
       "      <td>5</td>\n",
       "      <td>0</td>\n",
       "      <td>0</td>\n",
       "      <td>0</td>\n",
       "      <td>0</td>\n",
       "      <td>1</td>\n",
       "    </tr>\n",
       "    <tr>\n",
       "      <th>1215</th>\n",
       "      <td>83.599</td>\n",
       "      <td>96.118</td>\n",
       "      <td>243.01</td>\n",
       "      <td>49.935</td>\n",
       "      <td>2019</td>\n",
       "      <td>2</td>\n",
       "      <td>6</td>\n",
       "      <td>1</td>\n",
       "      <td>0</td>\n",
       "      <td>0</td>\n",
       "      <td>0</td>\n",
       "      <td>0</td>\n",
       "    </tr>\n",
       "    <tr>\n",
       "      <th>592</th>\n",
       "      <td>131.063</td>\n",
       "      <td>120.621</td>\n",
       "      <td>410.26</td>\n",
       "      <td>179.300</td>\n",
       "      <td>2021</td>\n",
       "      <td>4</td>\n",
       "      <td>12</td>\n",
       "      <td>0</td>\n",
       "      <td>0</td>\n",
       "      <td>1</td>\n",
       "      <td>0</td>\n",
       "      <td>0</td>\n",
       "    </tr>\n",
       "    <tr>\n",
       "      <th>729</th>\n",
       "      <td>59.279</td>\n",
       "      <td>78.056</td>\n",
       "      <td>358.08</td>\n",
       "      <td>125.060</td>\n",
       "      <td>2021</td>\n",
       "      <td>2</td>\n",
       "      <td>6</td>\n",
       "      <td>0</td>\n",
       "      <td>0</td>\n",
       "      <td>1</td>\n",
       "      <td>0</td>\n",
       "      <td>0</td>\n",
       "    </tr>\n",
       "  </tbody>\n",
       "</table>\n",
       "</div>"
      ],
      "text/plain": [
       "      AAPL_Volume(M)  AAPL_SMAVG15(M)  SPESG-1  AAPL_Px_Shift-1  Year  \\\n",
       "1182         146.190          141.621   237.25           50.688  2019   \n",
       "232           50.747           57.523   367.36          171.560  2023   \n",
       "1215          83.599           96.118   243.01           49.935  2019   \n",
       "592          131.063          120.621   410.26          179.300  2021   \n",
       "729           59.279           78.056   358.08          125.060  2021   \n",
       "\n",
       "      Quarter  Month  Friday  Monday  Thursday  Tuesday  Wednesday  \n",
       "1182        3      8       0       0         1        0          0  \n",
       "232         2      5       0       0         0        0          1  \n",
       "1215        2      6       1       0         0        0          0  \n",
       "592         4     12       0       0         1        0          0  \n",
       "729         2      6       0       0         1        0          0  "
      ]
     },
     "execution_count": 70,
     "metadata": {},
     "output_type": "execute_result"
    }
   ],
   "source": [
    "X_test.head()"
   ]
  },
  {
   "cell_type": "code",
   "execution_count": 71,
   "metadata": {},
   "outputs": [],
   "source": [
    "MSFT = pd.read_excel('data/MSFT_EQUITY.xlsx')\n",
    "MSFT['Volume'] = MSFT['Volume'].str.strip('M').astype('float64').shift(-1)\n",
    "MSFT['SMAVG(15)'] = MSFT['SMAVG(15)'].str.strip('M').astype('float64').shift(-1)\n",
    "MSFT['Date'] = pd.to_datetime(MSFT['Date'])\n",
    "MSFT['Year'] = MSFT['Date'].dt.year\n",
    "MSFT['Quarter'] = MSFT['Date'].dt.quarter\n",
    "MSFT['Month'] = MSFT['Date'].dt.month\n",
    "MSFT['Day'] = MSFT['Date'].dt.strftime(\"%A\")\n",
    "df = pd.merge(MSFT, SPESG, on='Date', how='inner')\n",
    "new_columns = {'Last Px_x': 'AAPL_Px', 'Last Px_y': 'SPESG', 'SMAVG(15)':'AAPL_SMAVG15(M)', 'Volume':'AAPL_Volume(M)'}\n",
    "df.columns = df.columns.str.strip()\n",
    "df.rename(columns=new_columns, inplace=True)\n",
    "\n",
    "df['AAPL_Px_Shift-1'] = df['AAPL_Px'].shift(-1)\n",
    "df['SPESG-1'] = df['SPESG'].shift(-1)\n",
    "\n",
    "weekday_dummies = pd.get_dummies(df['Day']).astype(int)\n",
    "df = pd.concat([df, weekday_dummies], axis=1)\n",
    "df = df.dropna()\n",
    "df.sort_values(by='Date', ascending=True, inplace=True)\n",
    "X = df.drop(['Date', 'AAPL_Px', 'Day', 'SPESG'], axis=1)\n",
    "y = df['AAPL_Px']\n",
    "\n",
    "# y_pred = regressor.predict(X)"
   ]
  },
  {
   "cell_type": "code",
   "execution_count": 72,
   "metadata": {},
   "outputs": [
    {
     "ename": "ValueError",
     "evalue": "The feature names should match those that were passed during fit.\nFeature names must be in the same order as they were in fit.\n",
     "output_type": "error",
     "traceback": [
      "\u001b[0;31m---------------------------------------------------------------------------\u001b[0m",
      "\u001b[0;31mValueError\u001b[0m                                Traceback (most recent call last)",
      "Cell \u001b[0;32mIn[72], line 18\u001b[0m\n\u001b[1;32m     15\u001b[0m y_reordered \u001b[38;5;241m=\u001b[39m df_reordered[\u001b[38;5;124m'\u001b[39m\u001b[38;5;124mAAPL_Px\u001b[39m\u001b[38;5;124m'\u001b[39m]\n\u001b[1;32m     17\u001b[0m \u001b[38;5;66;03m# Make predictions using the reordered features\u001b[39;00m\n\u001b[0;32m---> 18\u001b[0m y_pred_reordered \u001b[38;5;241m=\u001b[39m \u001b[43mregressor\u001b[49m\u001b[38;5;241;43m.\u001b[39;49m\u001b[43mpredict\u001b[49m\u001b[43m(\u001b[49m\u001b[43mX_reordered\u001b[49m\u001b[43m)\u001b[49m\n",
      "File \u001b[0;32m~/Developer/systrading-final/env/lib/python3.8/site-packages/sklearn/linear_model/_base.py:386\u001b[0m, in \u001b[0;36mLinearModel.predict\u001b[0;34m(self, X)\u001b[0m\n\u001b[1;32m    372\u001b[0m \u001b[38;5;28;01mdef\u001b[39;00m \u001b[38;5;21mpredict\u001b[39m(\u001b[38;5;28mself\u001b[39m, X):\n\u001b[1;32m    373\u001b[0m \u001b[38;5;250m    \u001b[39m\u001b[38;5;124;03m\"\"\"\u001b[39;00m\n\u001b[1;32m    374\u001b[0m \u001b[38;5;124;03m    Predict using the linear model.\u001b[39;00m\n\u001b[1;32m    375\u001b[0m \n\u001b[0;32m   (...)\u001b[0m\n\u001b[1;32m    384\u001b[0m \u001b[38;5;124;03m        Returns predicted values.\u001b[39;00m\n\u001b[1;32m    385\u001b[0m \u001b[38;5;124;03m    \"\"\"\u001b[39;00m\n\u001b[0;32m--> 386\u001b[0m     \u001b[38;5;28;01mreturn\u001b[39;00m \u001b[38;5;28;43mself\u001b[39;49m\u001b[38;5;241;43m.\u001b[39;49m\u001b[43m_decision_function\u001b[49m\u001b[43m(\u001b[49m\u001b[43mX\u001b[49m\u001b[43m)\u001b[49m\n",
      "File \u001b[0;32m~/Developer/systrading-final/env/lib/python3.8/site-packages/sklearn/linear_model/_base.py:369\u001b[0m, in \u001b[0;36mLinearModel._decision_function\u001b[0;34m(self, X)\u001b[0m\n\u001b[1;32m    366\u001b[0m \u001b[38;5;28;01mdef\u001b[39;00m \u001b[38;5;21m_decision_function\u001b[39m(\u001b[38;5;28mself\u001b[39m, X):\n\u001b[1;32m    367\u001b[0m     check_is_fitted(\u001b[38;5;28mself\u001b[39m)\n\u001b[0;32m--> 369\u001b[0m     X \u001b[38;5;241m=\u001b[39m \u001b[38;5;28;43mself\u001b[39;49m\u001b[38;5;241;43m.\u001b[39;49m\u001b[43m_validate_data\u001b[49m\u001b[43m(\u001b[49m\u001b[43mX\u001b[49m\u001b[43m,\u001b[49m\u001b[43m \u001b[49m\u001b[43maccept_sparse\u001b[49m\u001b[38;5;241;43m=\u001b[39;49m\u001b[43m[\u001b[49m\u001b[38;5;124;43m\"\u001b[39;49m\u001b[38;5;124;43mcsr\u001b[39;49m\u001b[38;5;124;43m\"\u001b[39;49m\u001b[43m,\u001b[49m\u001b[43m \u001b[49m\u001b[38;5;124;43m\"\u001b[39;49m\u001b[38;5;124;43mcsc\u001b[39;49m\u001b[38;5;124;43m\"\u001b[39;49m\u001b[43m,\u001b[49m\u001b[43m \u001b[49m\u001b[38;5;124;43m\"\u001b[39;49m\u001b[38;5;124;43mcoo\u001b[39;49m\u001b[38;5;124;43m\"\u001b[39;49m\u001b[43m]\u001b[49m\u001b[43m,\u001b[49m\u001b[43m \u001b[49m\u001b[43mreset\u001b[49m\u001b[38;5;241;43m=\u001b[39;49m\u001b[38;5;28;43;01mFalse\u001b[39;49;00m\u001b[43m)\u001b[49m\n\u001b[1;32m    370\u001b[0m     \u001b[38;5;28;01mreturn\u001b[39;00m safe_sparse_dot(X, \u001b[38;5;28mself\u001b[39m\u001b[38;5;241m.\u001b[39mcoef_\u001b[38;5;241m.\u001b[39mT, dense_output\u001b[38;5;241m=\u001b[39m\u001b[38;5;28;01mTrue\u001b[39;00m) \u001b[38;5;241m+\u001b[39m \u001b[38;5;28mself\u001b[39m\u001b[38;5;241m.\u001b[39mintercept_\n",
      "File \u001b[0;32m~/Developer/systrading-final/env/lib/python3.8/site-packages/sklearn/base.py:580\u001b[0m, in \u001b[0;36mBaseEstimator._validate_data\u001b[0;34m(self, X, y, reset, validate_separately, cast_to_ndarray, **check_params)\u001b[0m\n\u001b[1;32m    509\u001b[0m \u001b[38;5;28;01mdef\u001b[39;00m \u001b[38;5;21m_validate_data\u001b[39m(\n\u001b[1;32m    510\u001b[0m     \u001b[38;5;28mself\u001b[39m,\n\u001b[1;32m    511\u001b[0m     X\u001b[38;5;241m=\u001b[39m\u001b[38;5;124m\"\u001b[39m\u001b[38;5;124mno_validation\u001b[39m\u001b[38;5;124m\"\u001b[39m,\n\u001b[0;32m   (...)\u001b[0m\n\u001b[1;32m    516\u001b[0m     \u001b[38;5;241m*\u001b[39m\u001b[38;5;241m*\u001b[39mcheck_params,\n\u001b[1;32m    517\u001b[0m ):\n\u001b[1;32m    518\u001b[0m \u001b[38;5;250m    \u001b[39m\u001b[38;5;124;03m\"\"\"Validate input data and set or check the `n_features_in_` attribute.\u001b[39;00m\n\u001b[1;32m    519\u001b[0m \n\u001b[1;32m    520\u001b[0m \u001b[38;5;124;03m    Parameters\u001b[39;00m\n\u001b[0;32m   (...)\u001b[0m\n\u001b[1;32m    578\u001b[0m \u001b[38;5;124;03m        validated.\u001b[39;00m\n\u001b[1;32m    579\u001b[0m \u001b[38;5;124;03m    \"\"\"\u001b[39;00m\n\u001b[0;32m--> 580\u001b[0m     \u001b[38;5;28;43mself\u001b[39;49m\u001b[38;5;241;43m.\u001b[39;49m\u001b[43m_check_feature_names\u001b[49m\u001b[43m(\u001b[49m\u001b[43mX\u001b[49m\u001b[43m,\u001b[49m\u001b[43m \u001b[49m\u001b[43mreset\u001b[49m\u001b[38;5;241;43m=\u001b[39;49m\u001b[43mreset\u001b[49m\u001b[43m)\u001b[49m\n\u001b[1;32m    582\u001b[0m     \u001b[38;5;28;01mif\u001b[39;00m y \u001b[38;5;129;01mis\u001b[39;00m \u001b[38;5;28;01mNone\u001b[39;00m \u001b[38;5;129;01mand\u001b[39;00m \u001b[38;5;28mself\u001b[39m\u001b[38;5;241m.\u001b[39m_get_tags()[\u001b[38;5;124m\"\u001b[39m\u001b[38;5;124mrequires_y\u001b[39m\u001b[38;5;124m\"\u001b[39m]:\n\u001b[1;32m    583\u001b[0m         \u001b[38;5;28;01mraise\u001b[39;00m \u001b[38;5;167;01mValueError\u001b[39;00m(\n\u001b[1;32m    584\u001b[0m             \u001b[38;5;124mf\u001b[39m\u001b[38;5;124m\"\u001b[39m\u001b[38;5;124mThis \u001b[39m\u001b[38;5;132;01m{\u001b[39;00m\u001b[38;5;28mself\u001b[39m\u001b[38;5;241m.\u001b[39m\u001b[38;5;18m__class__\u001b[39m\u001b[38;5;241m.\u001b[39m\u001b[38;5;18m__name__\u001b[39m\u001b[38;5;132;01m}\u001b[39;00m\u001b[38;5;124m estimator \u001b[39m\u001b[38;5;124m\"\u001b[39m\n\u001b[1;32m    585\u001b[0m             \u001b[38;5;124m\"\u001b[39m\u001b[38;5;124mrequires y to be passed, but the target y is None.\u001b[39m\u001b[38;5;124m\"\u001b[39m\n\u001b[1;32m    586\u001b[0m         )\n",
      "File \u001b[0;32m~/Developer/systrading-final/env/lib/python3.8/site-packages/sklearn/base.py:507\u001b[0m, in \u001b[0;36mBaseEstimator._check_feature_names\u001b[0;34m(self, X, reset)\u001b[0m\n\u001b[1;32m    502\u001b[0m \u001b[38;5;28;01mif\u001b[39;00m \u001b[38;5;129;01mnot\u001b[39;00m missing_names \u001b[38;5;129;01mand\u001b[39;00m \u001b[38;5;129;01mnot\u001b[39;00m unexpected_names:\n\u001b[1;32m    503\u001b[0m     message \u001b[38;5;241m+\u001b[39m\u001b[38;5;241m=\u001b[39m (\n\u001b[1;32m    504\u001b[0m         \u001b[38;5;124m\"\u001b[39m\u001b[38;5;124mFeature names must be in the same order as they were in fit.\u001b[39m\u001b[38;5;130;01m\\n\u001b[39;00m\u001b[38;5;124m\"\u001b[39m\n\u001b[1;32m    505\u001b[0m     )\n\u001b[0;32m--> 507\u001b[0m \u001b[38;5;28;01mraise\u001b[39;00m \u001b[38;5;167;01mValueError\u001b[39;00m(message)\n",
      "\u001b[0;31mValueError\u001b[0m: The feature names should match those that were passed during fit.\nFeature names must be in the same order as they were in fit.\n"
     ]
    }
   ],
   "source": [
    "# Define the feature names in the same order as they were used during model training\n",
    "feature_names = ['AAPL_Px_Shift-1', 'SPESG-1', 'AAPL_SMAVG15(M)', 'AAPL_Volume(M)', 'Year', 'Quarter', 'Month', 'Monday', 'Tuesday', 'Wednesday', 'Thursday', 'Friday']\n",
    "\n",
    "# Create a new DataFrame with columns in the desired order\n",
    "df_reordered = df[['Date', 'AAPL_Px', 'Day', 'SPESG'] + feature_names]\n",
    "\n",
    "# Drop rows with NaN values\n",
    "df_reordered = df_reordered.dropna()\n",
    "\n",
    "# Sort the DataFrame by 'Date' column\n",
    "df_reordered.sort_values(by='Date', ascending=True, inplace=True)\n",
    "\n",
    "# Separate features (X) and target variable (y)\n",
    "X_reordered = df_reordered.drop(['Date', 'AAPL_Px', 'Day', 'SPESG'], axis=1)\n",
    "y_reordered = df_reordered['AAPL_Px']\n",
    "\n",
    "# Make predictions using the reordered features\n",
    "y_pred_reordered = regressor.predict(X_reordered)\n"
   ]
  }
 ],
 "metadata": {
  "kernelspec": {
   "display_name": "env",
   "language": "python",
   "name": "python3"
  },
  "language_info": {
   "codemirror_mode": {
    "name": "ipython",
    "version": 3
   },
   "file_extension": ".py",
   "mimetype": "text/x-python",
   "name": "python",
   "nbconvert_exporter": "python",
   "pygments_lexer": "ipython3",
   "version": "3.8.6"
  }
 },
 "nbformat": 4,
 "nbformat_minor": 2
}
