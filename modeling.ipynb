{
 "cells": [
  {
   "cell_type": "code",
   "execution_count": 118,
   "metadata": {},
   "outputs": [],
   "source": [
    "import numpy as np\n",
    "import pandas as pd\n",
    "import matplotlib.pyplot as plt\n",
    "import openpyxl as px\n",
    "from sklearn.model_selection import train_test_split"
   ]
  },
  {
   "cell_type": "markdown",
   "metadata": {},
   "source": [
    "## Data Pre-processing"
   ]
  },
  {
   "cell_type": "code",
   "execution_count": 119,
   "metadata": {},
   "outputs": [],
   "source": [
    "AAPL = pd.read_excel(\"./data/AAPL_EQUITY.xlsx\")\n",
    "SPESG = pd.read_excel(('./data/SPESG_Index_5Y.xlsx')).dropna()\n",
    "\n",
    "# Take SPESG and AAPL and combine them into one data frame: df['Date', 'SPESG', 'AAPL_Px', 'AAPL_Volume', 'AAPL_SMAVG(15)']\n",
    "df = pd.merge(AAPL, SPESG, on='Date', how='inner')\n",
    "new_columns = {'Last Px_x' : 'AAPL_Px', 'Volume': 'AAPL_Volume(M)', 'SMAVG(15)' : 'AAPL_SMAVG15(M)', 'Last Px_y': 'SPESG'}\n",
    "df.rename(columns=new_columns, inplace=True)\n",
    "\n",
    "# Strip M and convert these columns from object into float64\n",
    "df['AAPL_Volume(M)'] = df['AAPL_Volume(M)'].str.strip('M').astype('float64')\n",
    "df['AAPL_SMAVG15(M)'] = df['AAPL_SMAVG15(M)'].str.strip('M').astype('float64')\n",
    "df['Date'] = pd.to_datetime(df['Date'])\n",
    "df['Year'] = df['Date'].dt.year\n",
    "df['Quarter'] = df['Date'].dt.quarter\n",
    "df['Month'] = df['Date'].dt.month\n",
    "df['Day'] = df['Date'].dt.strftime('%A')"
   ]
  },
  {
   "cell_type": "markdown",
   "metadata": {},
   "source": [
    "## Calculate returns"
   ]
  },
  {
   "cell_type": "code",
   "execution_count": 120,
   "metadata": {},
   "outputs": [
    {
     "name": "stdout",
     "output_type": "stream",
     "text": [
      "<class 'pandas.core.frame.DataFrame'>\n",
      "RangeIndex: 1274 entries, 0 to 1273\n",
      "Data columns (total 20 columns):\n",
      " #   Column           Non-Null Count  Dtype         \n",
      "---  ------           --------------  -----         \n",
      " 0   Date             1274 non-null   datetime64[ns]\n",
      " 1   AAPL_Px          1274 non-null   float64       \n",
      " 2   AAPL_Volume(M)   1274 non-null   float64       \n",
      " 3   AAPL_SMAVG15(M)  1260 non-null   float64       \n",
      " 4   SPESG            1274 non-null   float64       \n",
      " 5   Year             1274 non-null   int32         \n",
      " 6   Quarter          1274 non-null   int32         \n",
      " 7   Month            1274 non-null   int32         \n",
      " 8   Day              1274 non-null   object        \n",
      " 9   AAPL_Px_ret1     1273 non-null   float64       \n",
      " 10  AAPL_Px_ret5     1269 non-null   float64       \n",
      " 11  AAPL_Px_ret10    1264 non-null   float64       \n",
      " 12  AAPL_Px_ret30    1244 non-null   float64       \n",
      " 13  AAPL_Px_ret60    1214 non-null   float64       \n",
      " 14  AAPL_Px_ret120   1154 non-null   float64       \n",
      " 15  AAPL_Px_ret250   1024 non-null   float64       \n",
      " 16  AAPL_ret_f1      1272 non-null   float64       \n",
      " 17  AAPL_Px_100MA    1075 non-null   float64       \n",
      " 18  AAPL_Px_50MA     1175 non-null   float64       \n",
      " 19  AAPL_Px_10MA     1255 non-null   float64       \n",
      "dtypes: datetime64[ns](1), float64(15), int32(3), object(1)\n",
      "memory usage: 184.3+ KB\n"
     ]
    }
   ],
   "source": [
    "ret_period = [1, 5, 10, 30, 60, 120, 250]\n",
    "\n",
    "for p in ret_period:\n",
    "    df[f'AAPL_Px_ret{p}'] = ((df['AAPL_Px'] - df['AAPL_Px'].shift(-p)) / df['AAPL_Px'].shift(-p)).round(4)\n",
    "\n",
    "df['AAPL_ret_f1'] = df['AAPL_Px_ret1'].shift(-1)\n",
    "# Calculate the 100-day moving average\n",
    "df['AAPL_Px_100MA'] = df['AAPL_Px'].shift(-100).rolling(window=100).mean()\n",
    "df['AAPL_Px_50MA'] = df['AAPL_Px'].shift(-50).rolling(window=50).mean()\n",
    "df['AAPL_Px_10MA'] = df['AAPL_Px'].shift(-10).rolling(window=10).mean()\n",
    "\n",
    "\n",
    "df.info()"
   ]
  },
  {
   "cell_type": "code",
   "execution_count": 121,
   "metadata": {},
   "outputs": [],
   "source": [
    "weekday_dummies = pd.get_dummies(df['Day']).astype(int)\n",
    "df = pd.concat([df, weekday_dummies], axis=1)\n",
    "df = df.dropna()\n",
    "df.sort_values(by='Date', ascending=True, inplace=True)\n",
    "\n",
    "X = df.drop(['Date', 'Day', 'AAPL_ret_f1'], axis=1)\n",
    "y = df['AAPL_Px_10MA']\n",
    "\n",
    "# X_train, X_test, y_train, y_test = train_test_split(X, y, test_size=0.5, random_state=42)\n",
    "# X_train.head()"
   ]
  },
  {
   "cell_type": "markdown",
   "metadata": {},
   "source": [
    "# Feature Engineering"
   ]
  },
  {
   "cell_type": "code",
   "execution_count": 122,
   "metadata": {},
   "outputs": [
    {
     "name": "stdout",
     "output_type": "stream",
     "text": [
      "Feature Combination 1: ['AAPL_Px'] - R-squared: 0.9583341125523819\n",
      "Feature Combination 2: ['AAPL_Px_ret1', 'AAPL_Px_ret5', 'AAPL_Px_ret10', 'AAPL_Px_ret30', 'AAPL_Px_ret60', 'AAPL_Px_ret120', 'AAPL_Px_ret250'] - R-squared: 0.8896725288399854\n",
      "Feature Combination 3: ['Year', 'Quarter', 'Month', 'Monday', 'Tuesday', 'Wednesday', 'Thursday', 'Friday'] - R-squared: 0.9679020032144197\n"
     ]
    }
   ],
   "source": [
    "from sklearn.metrics import r2_score\n",
    "\n",
    "# Define a list of feature combinations to try\n",
    "feature_combinations = [\n",
    "    ['AAPL_Px'],\n",
    "    ['AAPL_Px_ret1', 'AAPL_Px_ret5', 'AAPL_Px_ret10', 'AAPL_Px_ret30', 'AAPL_Px_ret60', 'AAPL_Px_ret120', 'AAPL_Px_ret250'],\n",
    "    ['Year', 'Quarter', 'Month', 'Monday', 'Tuesday', 'Wednesday', 'Thursday', 'Friday'],\n",
    "    # Add more feature combinations as needed\n",
    "]\n",
    "\n",
    "# Train and evaluate the model for each feature combination\n",
    "for i, features in enumerate(feature_combinations):\n",
    "    X_subset = X[features]\n",
    "    X_train, X_test, y_train, y_test = train_test_split(X_subset, y, test_size=0.4, random_state=42)\n",
    "    regressor.fit(X_train, y_train)\n",
    "    y_pred = regressor.predict(X_test)\n",
    "    r_squared = r2_score(y_test, y_pred)\n",
    "    print(f\"Feature Combination {i + 1}: {features} - R-squared: {r_squared}\")\n"
   ]
  },
  {
   "cell_type": "markdown",
   "metadata": {},
   "source": [
    "# Modeling\n",
    "## Experimenting phase\n",
    "### Linear Regression"
   ]
  },
  {
   "cell_type": "code",
   "execution_count": 123,
   "metadata": {},
   "outputs": [],
   "source": [
    "# from sklearn import linear_model\n",
    "# from sklearn.metrics import mean_squared_error, r2_score\n",
    "\n",
    "# regressor = linear_model.LinearRegression()\n",
    "# regressor.fit(X_train, y_train)\n",
    "\n",
    "# # Training set\n",
    "# y_pred_train = regressor.predict(X_train)\n",
    "# r2_train = r2_score(y_train, y_pred_train).round(4)\n",
    "\n",
    "# # Test set\n",
    "# y_pred_test = regressor.predict(X_test)\n",
    "# r2_test = r2_score(y_test, y_pred_test).round(4)\n",
    "\n",
    "# print(f\"r2_train: {r2_train}\")\n",
    "# print(f\"r2_test: {r2_test}\")\n",
    "\n",
    "# def adjusted_r2_score(r_squared, n, k):\n",
    "#     return (1 - ((1 - r_squared) * (n - 1) / (n - k - 1))).round(4)\n",
    "\n",
    "# n_samples = X_train.shape[0]\n",
    "# n_features = X_train.shape[1]\n",
    "\n",
    "# adj_r2_train = adjusted_r2_score(r2_train, n_samples, n_features)\n",
    "# adj_r2 = adjusted_r2_score(r2_test, n_samples, n_features)\n",
    "# print(\"Adjusted R-squared on Training Data:\", adj_r2_train)\n",
    "# print(\"Adjusted R-squared on Test Data:\", adj_r2)"
   ]
  },
  {
   "cell_type": "markdown",
   "metadata": {},
   "source": [
    "### Bayesian Regression"
   ]
  },
  {
   "cell_type": "code",
   "execution_count": 124,
   "metadata": {},
   "outputs": [
    {
     "name": "stdout",
     "output_type": "stream",
     "text": [
      "r2_train: 0.6990511955261431\n",
      "r2_test: 0.6996374367013645\n",
      "Adjusted R-squared on Training Data: 0.6946416892334859\n",
      "Adjusted R-squared on Test Data: 0.6952365200229962\n"
     ]
    }
   ],
   "source": [
    "# from sklearn.linear_model import BayesianRidge\n",
    "# from sklearn.metrics import mean_squared_error, r2_score\n",
    "\n",
    "# # Create Bayesian Ridge regression object\n",
    "# regressor = BayesianRidge()\n",
    "\n",
    "# # Fit the model\n",
    "# regressor.fit(X_train, y_train)\n",
    "\n",
    "# # Predict on training set\n",
    "# y_pred_train = regressor.predict(X_train)\n",
    "# r2_train = r2_score(y_train, y_pred_train)\n",
    "\n",
    "# # Predict on test set\n",
    "# y_pred_test = regressor.predict(X_test)\n",
    "# r2_test = r2_score(y_test, y_pred_test)\n",
    "\n",
    "# print(f\"r2_train: {r2_train}\")\n",
    "# print(f\"r2_test: {r2_test}\")\n",
    "\n",
    "# # Function to calculate adjusted R^2\n",
    "# def adjusted_r2_score(r_squared, n, k):\n",
    "#     return 1 - ((1 - r_squared) * (n - 1) / (n - k - 1))\n",
    "\n",
    "# n_samples = X_train.shape[0]\n",
    "# n_features = X_train.shape[1]\n",
    "\n",
    "# adj_r2_train = adjusted_r2_score(r2_train, n_samples, n_features)\n",
    "# adj_r2_test = adjusted_r2_score(r2_test, n_samples, n_features)\n",
    "# print(\"Adjusted R-squared on Training Data:\", adj_r2_train)\n",
    "# print(\"Adjusted R-squared on Test Data:\", adj_r2_test)\n"
   ]
  },
  {
   "cell_type": "markdown",
   "metadata": {},
   "source": [
    "### Random Forest"
   ]
  },
  {
   "cell_type": "code",
   "execution_count": 125,
   "metadata": {},
   "outputs": [
    {
     "name": "stdout",
     "output_type": "stream",
     "text": [
      "Cross-Validation Scores: [0.212622   0.20443454 0.17111468 0.14793431 0.122367  ]\n",
      "Mean R-squared: 0.17169450623492616\n",
      "Standard Deviation of R-squared: 0.03389706520239402\n"
     ]
    }
   ],
   "source": [
    "from sklearn.ensemble import RandomForestRegressor\n",
    "from sklearn.metrics import mean_squared_error, r2_score\n",
    "from sklearn.model_selection import cross_val_score\n",
    "\n",
    "X = df.drop(['Date', 'Day', 'Year', 'AAPL_ret_f1'], axis=1)\n",
    "y = df['AAPL_ret_f1']\n",
    "\n",
    "# Create Random Forest Regressor object\n",
    "regressor = RandomForestRegressor()\n",
    "\n",
    "cv_scores = cross_val_score(regressor, X, y, cv=5, scoring='r2')\n",
    "\n",
    "# Print cross-validation scores\n",
    "print(\"Cross-Validation Scores:\", cv_scores)\n",
    "\n",
    "# Calculate mean and standard deviation of cross-validation scores\n",
    "print(\"Mean R-squared:\", cv_scores.mean())\n",
    "print(\"Standard Deviation of R-squared:\", cv_scores.std())"
   ]
  },
  {
   "cell_type": "markdown",
   "metadata": {},
   "source": [
    "# Using moving averages and breakout system instead as the strategy!"
   ]
  },
  {
   "cell_type": "code",
   "execution_count": 126,
   "metadata": {},
   "outputs": [
    {
     "name": "stdout",
     "output_type": "stream",
     "text": [
      "<class 'pandas.core.frame.DataFrame'>\n",
      "Index: 925 entries, 1023 to 99\n",
      "Data columns (total 21 columns):\n",
      " #   Column           Non-Null Count  Dtype  \n",
      "---  ------           --------------  -----  \n",
      " 0   AAPL_Px          925 non-null    float64\n",
      " 1   AAPL_Volume(M)   925 non-null    float64\n",
      " 2   AAPL_SMAVG15(M)  925 non-null    float64\n",
      " 3   SPESG            925 non-null    float64\n",
      " 4   Quarter          925 non-null    int32  \n",
      " 5   Month            925 non-null    int32  \n",
      " 6   AAPL_Px_ret1     925 non-null    float64\n",
      " 7   AAPL_Px_ret5     925 non-null    float64\n",
      " 8   AAPL_Px_ret10    925 non-null    float64\n",
      " 9   AAPL_Px_ret30    925 non-null    float64\n",
      " 10  AAPL_Px_ret60    925 non-null    float64\n",
      " 11  AAPL_Px_ret120   925 non-null    float64\n",
      " 12  AAPL_Px_ret250   925 non-null    float64\n",
      " 13  AAPL_Px_100MA    925 non-null    float64\n",
      " 14  AAPL_Px_50MA     925 non-null    float64\n",
      " 15  AAPL_Px_10MA     925 non-null    float64\n",
      " 16  Friday           925 non-null    int64  \n",
      " 17  Monday           925 non-null    int64  \n",
      " 18  Thursday         925 non-null    int64  \n",
      " 19  Tuesday          925 non-null    int64  \n",
      " 20  Wednesday        925 non-null    int64  \n",
      "dtypes: float64(14), int32(2), int64(5)\n",
      "memory usage: 151.8 KB\n"
     ]
    }
   ],
   "source": [
    "X.info()"
   ]
  }
 ],
 "metadata": {
  "kernelspec": {
   "display_name": "env",
   "language": "python",
   "name": "python3"
  },
  "language_info": {
   "codemirror_mode": {
    "name": "ipython",
    "version": 3
   },
   "file_extension": ".py",
   "mimetype": "text/x-python",
   "name": "python",
   "nbconvert_exporter": "python",
   "pygments_lexer": "ipython3",
   "version": "3.8.6"
  }
 },
 "nbformat": 4,
 "nbformat_minor": 2
}
