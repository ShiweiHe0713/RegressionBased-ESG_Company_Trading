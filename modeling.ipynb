{
 "cells": [
  {
   "cell_type": "code",
   "execution_count": 2,
   "metadata": {},
   "outputs": [],
   "source": [
    "import numpy as np\n",
    "import pandas as pd\n",
    "import matplotlib.pyplot as plt\n",
    "import openpyxl as px"
   ]
  },
  {
   "cell_type": "markdown",
   "metadata": {},
   "source": [
    "## Data Pre-processing"
   ]
  },
  {
   "cell_type": "code",
   "execution_count": 41,
   "metadata": {},
   "outputs": [
    {
     "data": {
      "text/html": [
       "<div>\n",
       "<style scoped>\n",
       "    .dataframe tbody tr th:only-of-type {\n",
       "        vertical-align: middle;\n",
       "    }\n",
       "\n",
       "    .dataframe tbody tr th {\n",
       "        vertical-align: top;\n",
       "    }\n",
       "\n",
       "    .dataframe thead th {\n",
       "        text-align: right;\n",
       "    }\n",
       "</style>\n",
       "<table border=\"1\" class=\"dataframe\">\n",
       "  <thead>\n",
       "    <tr style=\"text-align: right;\">\n",
       "      <th></th>\n",
       "      <th>Date</th>\n",
       "      <th>AAPL_Px</th>\n",
       "      <th>AAPL_Volume(M)</th>\n",
       "      <th>AAPL_SMAVG15(M)</th>\n",
       "      <th>SPESG</th>\n",
       "      <th>Year</th>\n",
       "      <th>Quarter</th>\n",
       "      <th>Month</th>\n",
       "      <th>Day</th>\n",
       "    </tr>\n",
       "  </thead>\n",
       "  <tbody>\n",
       "    <tr>\n",
       "      <th>0</th>\n",
       "      <td>2024-04-26</td>\n",
       "      <td>169.520</td>\n",
       "      <td>25.946</td>\n",
       "      <td>56.944</td>\n",
       "      <td>453.52</td>\n",
       "      <td>2024</td>\n",
       "      <td>2</td>\n",
       "      <td>4</td>\n",
       "      <td>Friday</td>\n",
       "    </tr>\n",
       "    <tr>\n",
       "      <th>1</th>\n",
       "      <td>2024-04-25</td>\n",
       "      <td>169.890</td>\n",
       "      <td>50.558</td>\n",
       "      <td>58.021</td>\n",
       "      <td>446.47</td>\n",
       "      <td>2024</td>\n",
       "      <td>2</td>\n",
       "      <td>4</td>\n",
       "      <td>Thursday</td>\n",
       "    </tr>\n",
       "    <tr>\n",
       "      <th>2</th>\n",
       "      <td>2024-04-24</td>\n",
       "      <td>169.020</td>\n",
       "      <td>48.252</td>\n",
       "      <td>58.231</td>\n",
       "      <td>447.28</td>\n",
       "      <td>2024</td>\n",
       "      <td>2</td>\n",
       "      <td>4</td>\n",
       "      <td>Wednesday</td>\n",
       "    </tr>\n",
       "    <tr>\n",
       "      <th>3</th>\n",
       "      <td>2024-04-23</td>\n",
       "      <td>166.900</td>\n",
       "      <td>49.538</td>\n",
       "      <td>58.193</td>\n",
       "      <td>446.95</td>\n",
       "      <td>2024</td>\n",
       "      <td>2</td>\n",
       "      <td>4</td>\n",
       "      <td>Tuesday</td>\n",
       "    </tr>\n",
       "    <tr>\n",
       "      <th>4</th>\n",
       "      <td>2024-04-22</td>\n",
       "      <td>165.840</td>\n",
       "      <td>48.116</td>\n",
       "      <td>58.179</td>\n",
       "      <td>441.80</td>\n",
       "      <td>2024</td>\n",
       "      <td>2</td>\n",
       "      <td>4</td>\n",
       "      <td>Monday</td>\n",
       "    </tr>\n",
       "    <tr>\n",
       "      <th>...</th>\n",
       "      <td>...</td>\n",
       "      <td>...</td>\n",
       "      <td>...</td>\n",
       "      <td>...</td>\n",
       "      <td>...</td>\n",
       "      <td>...</td>\n",
       "      <td>...</td>\n",
       "      <td>...</td>\n",
       "      <td>...</td>\n",
       "    </tr>\n",
       "    <tr>\n",
       "      <th>1255</th>\n",
       "      <td>2019-05-02</td>\n",
       "      <td>52.287</td>\n",
       "      <td>127.985</td>\n",
       "      <td>108.815</td>\n",
       "      <td>242.00</td>\n",
       "      <td>2019</td>\n",
       "      <td>2</td>\n",
       "      <td>5</td>\n",
       "      <td>Thursday</td>\n",
       "    </tr>\n",
       "    <tr>\n",
       "      <th>1256</th>\n",
       "      <td>2019-05-01</td>\n",
       "      <td>52.630</td>\n",
       "      <td>259.309</td>\n",
       "      <td>106.068</td>\n",
       "      <td>242.55</td>\n",
       "      <td>2019</td>\n",
       "      <td>2</td>\n",
       "      <td>5</td>\n",
       "      <td>Wednesday</td>\n",
       "    </tr>\n",
       "    <tr>\n",
       "      <th>1257</th>\n",
       "      <td>2019-04-30</td>\n",
       "      <td>50.167</td>\n",
       "      <td>186.140</td>\n",
       "      <td>98.319</td>\n",
       "      <td>244.34</td>\n",
       "      <td>2019</td>\n",
       "      <td>2</td>\n",
       "      <td>4</td>\n",
       "      <td>Tuesday</td>\n",
       "    </tr>\n",
       "    <tr>\n",
       "      <th>1258</th>\n",
       "      <td>2019-04-29</td>\n",
       "      <td>51.153</td>\n",
       "      <td>88.819</td>\n",
       "      <td>92.811</td>\n",
       "      <td>243.59</td>\n",
       "      <td>2019</td>\n",
       "      <td>2</td>\n",
       "      <td>4</td>\n",
       "      <td>Monday</td>\n",
       "    </tr>\n",
       "    <tr>\n",
       "      <th>1259</th>\n",
       "      <td>2019-04-26</td>\n",
       "      <td>51.075</td>\n",
       "      <td>74.596</td>\n",
       "      <td>91.830</td>\n",
       "      <td>243.38</td>\n",
       "      <td>2019</td>\n",
       "      <td>2</td>\n",
       "      <td>4</td>\n",
       "      <td>Friday</td>\n",
       "    </tr>\n",
       "  </tbody>\n",
       "</table>\n",
       "<p>1260 rows × 9 columns</p>\n",
       "</div>"
      ],
      "text/plain": [
       "           Date  AAPL_Px  AAPL_Volume(M)  AAPL_SMAVG15(M)   SPESG  Year  \\\n",
       "0    2024-04-26  169.520          25.946           56.944  453.52  2024   \n",
       "1    2024-04-25  169.890          50.558           58.021  446.47  2024   \n",
       "2    2024-04-24  169.020          48.252           58.231  447.28  2024   \n",
       "3    2024-04-23  166.900          49.538           58.193  446.95  2024   \n",
       "4    2024-04-22  165.840          48.116           58.179  441.80  2024   \n",
       "...         ...      ...             ...              ...     ...   ...   \n",
       "1255 2019-05-02   52.287         127.985          108.815  242.00  2019   \n",
       "1256 2019-05-01   52.630         259.309          106.068  242.55  2019   \n",
       "1257 2019-04-30   50.167         186.140           98.319  244.34  2019   \n",
       "1258 2019-04-29   51.153          88.819           92.811  243.59  2019   \n",
       "1259 2019-04-26   51.075          74.596           91.830  243.38  2019   \n",
       "\n",
       "      Quarter  Month        Day  \n",
       "0           2      4     Friday  \n",
       "1           2      4   Thursday  \n",
       "2           2      4  Wednesday  \n",
       "3           2      4    Tuesday  \n",
       "4           2      4     Monday  \n",
       "...       ...    ...        ...  \n",
       "1255        2      5   Thursday  \n",
       "1256        2      5  Wednesday  \n",
       "1257        2      4    Tuesday  \n",
       "1258        2      4     Monday  \n",
       "1259        2      4     Friday  \n",
       "\n",
       "[1260 rows x 9 columns]"
      ]
     },
     "execution_count": 41,
     "metadata": {},
     "output_type": "execute_result"
    }
   ],
   "source": [
    "AAPL = pd.read_excel(\"./data/AAPL_EQUITY.xlsx\")\n",
    "SPESG = pd.read_excel(('./data/SPESG_Index_5Y.xlsx')).dropna()\n",
    "\n",
    "# Take SPESG and AAPL and combine them into one data frame: df['Date', 'SPESG', 'AAPL_Px', 'AAPL_Volume', 'AAPL_SMAVG(15)']\n",
    "df = pd.merge(AAPL, SPESG, on='Date', how='inner')\n",
    "new_columns = {'Last Px_x' : 'AAPL_Px', 'Volume': 'AAPL_Volume(M)', 'SMAVG(15)' : 'AAPL_SMAVG15(M)', 'Last Px_y': 'SPESG'}\n",
    "df.rename(columns=new_columns, inplace=True)\n",
    "df = df.dropna()\n",
    "# Strip M and convert these columns from object into float64\n",
    "df['AAPL_Volume(M)'] = df['AAPL_Volume(M)'].str.strip('M').astype('float64')\n",
    "df['AAPL_SMAVG15(M)'] = df['AAPL_SMAVG15(M)'].str.strip('M').astype('float64')\n",
    "df['Date'] = pd.to_datetime(df['Date'])\n",
    "df['Year'] = df['Date'].dt.year\n",
    "df['Quarter'] = df['Date'].dt.quarter\n",
    "df['Month'] = df['Date'].dt.month\n",
    "df['Day'] = df['Date'].dt.strftime('%A')\n",
    "df"
   ]
  },
  {
   "cell_type": "markdown",
   "metadata": {},
   "source": [
    "## Calculate returns"
   ]
  },
  {
   "cell_type": "code",
   "execution_count": 42,
   "metadata": {},
   "outputs": [],
   "source": [
    "ret_period = [1, 5, 10, 30, 60, 120, 250]\n",
    "for p in ret_period:\n",
    "    df[f'AAPL_Px_ret{p}'] = ((df['AAPL_Px'] - df['AAPL_Px'].shift(-p)) / df['AAPL_Px'].shift(-p)).round(4)\n",
    "\n",
    "df['AAPL_ret_f1'] = df['AAPL_Px_ret1'].shift(-1)\n",
    "\n",
    "# Calculate the 100-day moving average\n",
    "df['AAPL_Px_100MA'] = df['AAPL_Px'].shift(-100).rolling(window=100).mean()\n",
    "df['AAPL_Px_50MA'] = df['AAPL_Px'].shift(-50).rolling(window=50).mean()\n",
    "df['AAPL_Px_10MA'] = df['AAPL_Px'].shift(-10).rolling(window=10).mean()\n",
    "\n",
    "weekday_dummies = pd.get_dummies(df['Day']).astype(int)\n",
    "df = pd.concat([df, weekday_dummies], axis=1)"
   ]
  },
  {
   "cell_type": "code",
   "execution_count": 43,
   "metadata": {},
   "outputs": [
    {
     "data": {
      "text/html": [
       "<div>\n",
       "<style scoped>\n",
       "    .dataframe tbody tr th:only-of-type {\n",
       "        vertical-align: middle;\n",
       "    }\n",
       "\n",
       "    .dataframe tbody tr th {\n",
       "        vertical-align: top;\n",
       "    }\n",
       "\n",
       "    .dataframe thead th {\n",
       "        text-align: right;\n",
       "    }\n",
       "</style>\n",
       "<table border=\"1\" class=\"dataframe\">\n",
       "  <thead>\n",
       "    <tr style=\"text-align: right;\">\n",
       "      <th></th>\n",
       "      <th>Date</th>\n",
       "      <th>AAPL_Px</th>\n",
       "      <th>AAPL_Volume(M)</th>\n",
       "      <th>AAPL_SMAVG15(M)</th>\n",
       "      <th>SPESG</th>\n",
       "      <th>Year</th>\n",
       "      <th>Quarter</th>\n",
       "      <th>Month</th>\n",
       "      <th>Day</th>\n",
       "      <th>AAPL_Px_ret1</th>\n",
       "      <th>...</th>\n",
       "      <th>AAPL_Px_ret250</th>\n",
       "      <th>AAPL_ret_f1</th>\n",
       "      <th>AAPL_Px_100MA</th>\n",
       "      <th>AAPL_Px_50MA</th>\n",
       "      <th>AAPL_Px_10MA</th>\n",
       "      <th>Friday</th>\n",
       "      <th>Monday</th>\n",
       "      <th>Thursday</th>\n",
       "      <th>Tuesday</th>\n",
       "      <th>Wednesday</th>\n",
       "    </tr>\n",
       "  </thead>\n",
       "  <tbody>\n",
       "    <tr>\n",
       "      <th>0</th>\n",
       "      <td>2024-04-26</td>\n",
       "      <td>169.52</td>\n",
       "      <td>25.946</td>\n",
       "      <td>56.944</td>\n",
       "      <td>453.52</td>\n",
       "      <td>2024</td>\n",
       "      <td>2</td>\n",
       "      <td>4</td>\n",
       "      <td>Friday</td>\n",
       "      <td>-0.0022</td>\n",
       "      <td>...</td>\n",
       "      <td>-0.0009</td>\n",
       "      <td>0.0051</td>\n",
       "      <td>NaN</td>\n",
       "      <td>NaN</td>\n",
       "      <td>NaN</td>\n",
       "      <td>1</td>\n",
       "      <td>0</td>\n",
       "      <td>0</td>\n",
       "      <td>0</td>\n",
       "      <td>0</td>\n",
       "    </tr>\n",
       "    <tr>\n",
       "      <th>1</th>\n",
       "      <td>2024-04-25</td>\n",
       "      <td>169.89</td>\n",
       "      <td>50.558</td>\n",
       "      <td>58.021</td>\n",
       "      <td>446.47</td>\n",
       "      <td>2024</td>\n",
       "      <td>2</td>\n",
       "      <td>4</td>\n",
       "      <td>Thursday</td>\n",
       "      <td>0.0051</td>\n",
       "      <td>...</td>\n",
       "      <td>0.0088</td>\n",
       "      <td>0.0127</td>\n",
       "      <td>NaN</td>\n",
       "      <td>NaN</td>\n",
       "      <td>NaN</td>\n",
       "      <td>0</td>\n",
       "      <td>0</td>\n",
       "      <td>1</td>\n",
       "      <td>0</td>\n",
       "      <td>0</td>\n",
       "    </tr>\n",
       "    <tr>\n",
       "      <th>2</th>\n",
       "      <td>2024-04-24</td>\n",
       "      <td>169.02</td>\n",
       "      <td>48.252</td>\n",
       "      <td>58.231</td>\n",
       "      <td>447.28</td>\n",
       "      <td>2024</td>\n",
       "      <td>2</td>\n",
       "      <td>4</td>\n",
       "      <td>Wednesday</td>\n",
       "      <td>0.0127</td>\n",
       "      <td>...</td>\n",
       "      <td>0.0321</td>\n",
       "      <td>0.0064</td>\n",
       "      <td>NaN</td>\n",
       "      <td>NaN</td>\n",
       "      <td>NaN</td>\n",
       "      <td>0</td>\n",
       "      <td>0</td>\n",
       "      <td>0</td>\n",
       "      <td>0</td>\n",
       "      <td>1</td>\n",
       "    </tr>\n",
       "    <tr>\n",
       "      <th>3</th>\n",
       "      <td>2024-04-23</td>\n",
       "      <td>166.90</td>\n",
       "      <td>49.538</td>\n",
       "      <td>58.193</td>\n",
       "      <td>446.95</td>\n",
       "      <td>2024</td>\n",
       "      <td>2</td>\n",
       "      <td>4</td>\n",
       "      <td>Tuesday</td>\n",
       "      <td>0.0064</td>\n",
       "      <td>...</td>\n",
       "      <td>0.0191</td>\n",
       "      <td>0.0051</td>\n",
       "      <td>NaN</td>\n",
       "      <td>NaN</td>\n",
       "      <td>NaN</td>\n",
       "      <td>0</td>\n",
       "      <td>0</td>\n",
       "      <td>0</td>\n",
       "      <td>1</td>\n",
       "      <td>0</td>\n",
       "    </tr>\n",
       "    <tr>\n",
       "      <th>4</th>\n",
       "      <td>2024-04-22</td>\n",
       "      <td>165.84</td>\n",
       "      <td>48.116</td>\n",
       "      <td>58.179</td>\n",
       "      <td>441.80</td>\n",
       "      <td>2024</td>\n",
       "      <td>2</td>\n",
       "      <td>4</td>\n",
       "      <td>Monday</td>\n",
       "      <td>0.0051</td>\n",
       "      <td>...</td>\n",
       "      <td>0.0031</td>\n",
       "      <td>-0.0122</td>\n",
       "      <td>NaN</td>\n",
       "      <td>NaN</td>\n",
       "      <td>NaN</td>\n",
       "      <td>0</td>\n",
       "      <td>1</td>\n",
       "      <td>0</td>\n",
       "      <td>0</td>\n",
       "      <td>0</td>\n",
       "    </tr>\n",
       "  </tbody>\n",
       "</table>\n",
       "<p>5 rows × 25 columns</p>\n",
       "</div>"
      ],
      "text/plain": [
       "        Date  AAPL_Px  AAPL_Volume(M)  AAPL_SMAVG15(M)   SPESG  Year  Quarter  \\\n",
       "0 2024-04-26   169.52          25.946           56.944  453.52  2024        2   \n",
       "1 2024-04-25   169.89          50.558           58.021  446.47  2024        2   \n",
       "2 2024-04-24   169.02          48.252           58.231  447.28  2024        2   \n",
       "3 2024-04-23   166.90          49.538           58.193  446.95  2024        2   \n",
       "4 2024-04-22   165.84          48.116           58.179  441.80  2024        2   \n",
       "\n",
       "   Month        Day  AAPL_Px_ret1  ...  AAPL_Px_ret250  AAPL_ret_f1  \\\n",
       "0      4     Friday       -0.0022  ...         -0.0009       0.0051   \n",
       "1      4   Thursday        0.0051  ...          0.0088       0.0127   \n",
       "2      4  Wednesday        0.0127  ...          0.0321       0.0064   \n",
       "3      4    Tuesday        0.0064  ...          0.0191       0.0051   \n",
       "4      4     Monday        0.0051  ...          0.0031      -0.0122   \n",
       "\n",
       "   AAPL_Px_100MA  AAPL_Px_50MA  AAPL_Px_10MA  Friday  Monday  Thursday  \\\n",
       "0            NaN           NaN           NaN       1       0         0   \n",
       "1            NaN           NaN           NaN       0       0         1   \n",
       "2            NaN           NaN           NaN       0       0         0   \n",
       "3            NaN           NaN           NaN       0       0         0   \n",
       "4            NaN           NaN           NaN       0       1         0   \n",
       "\n",
       "   Tuesday  Wednesday  \n",
       "0        0          0  \n",
       "1        0          0  \n",
       "2        0          1  \n",
       "3        1          0  \n",
       "4        0          0  \n",
       "\n",
       "[5 rows x 25 columns]"
      ]
     },
     "execution_count": 43,
     "metadata": {},
     "output_type": "execute_result"
    }
   ],
   "source": [
    "df.head()"
   ]
  },
  {
   "cell_type": "markdown",
   "metadata": {},
   "source": [
    "## Data splitting\n",
    "Temoral Train/test split"
   ]
  },
  {
   "cell_type": "code",
   "execution_count": 44,
   "metadata": {},
   "outputs": [],
   "source": [
    "df.sort_values(by='Date', ascending=True, inplace=True)\n",
    "\n",
    "split_ts = pd.Timestamp(\"2021-04-06\")\n",
    "training_set = df[df['Date'] <= split_ts]\n",
    "holdout_set = df[df['Date'] > split_ts]"
   ]
  },
  {
   "cell_type": "markdown",
   "metadata": {},
   "source": [
    "## Return Analysis"
   ]
  },
  {
   "cell_type": "code",
   "execution_count": 64,
   "metadata": {},
   "outputs": [
    {
     "data": {
      "image/png": "[encoded data removed]",
      "text/plain": [
       "<Figure size 640x480 with 1 Axes>"
      ]
     },
     "metadata": {},
     "output_type": "display_data"
    }
   ],
   "source": [
    "empty_row = training_set.isna().any(axis=1)\n",
    "plt.plot(training_set['Date'], training_set['AAPL_Px_ret250'], label=\"250Day-Ret\")\n",
    "plt.plot(training_set['Date'], training_set['AAPL_Px_ret120'], label=\"120Day-Ret\")\n",
    "plt.plot(training_set['Date'], training_set['AAPL_Px_ret60'], label=\"60Day-Ret\")\n",
    "plt.plot(training_set['Date'], training_set['AAPL_Px_ret30'], label=\"30Day-Ret\")\n",
    "plt.plot(training_set['Date'], training_set['AAPL_Px_ret10'], label=\"10Day-Ret\")\n",
    "plt.plot(training_set['Date'], training_set['AAPL_Px_ret5'], label=\"5Day-Ret\")\n",
    "plt.plot(training_set['Date'], training_set['AAPL_Px_ret1'], label=\"1Day-Ret\")\n",
    "\n",
    "plt.axhline(y=0, color=\"red\", alpha=0.5)\n",
    "\n",
    "plt.legend()\n",
    "plt.title(\"AAPL Return Comparison on Training Set\")\n",
    "plt.xlabel(\"Time\")\n",
    "plt.ylabel(\"Return value\")\n",
    "plt.show()"
   ]
  },
  {
   "cell_type": "markdown",
   "metadata": {},
   "source": [
    "**Conclusion** <br>\n",
    "We can't choose linear regression or other interpolation method to fill the empty ret250 cells, since the 250-Day return seems fluctuating too much. <br>\n",
    "\n",
    "**Basically, return with any peirod dropped significantly during 2020-4, and longer returns rises up around 2020-08, so the volatility is very large during 2020, which could easily makes the model over-fit.**"
   ]
  },
  {
   "cell_type": "markdown",
   "metadata": {},
   "source": [
    "# Feature Engineering"
   ]
  },
  {
   "cell_type": "code",
   "execution_count": 75,
   "metadata": {},
   "outputs": [
    {
     "name": "stderr",
     "output_type": "stream",
     "text": [
      "/var/folders/n6/wdpx2fcx4ds7sr7yq7pd__lc0000gn/T/ipykernel_99359/1156619724.py:6: SettingWithCopyWarning: \n",
      "A value is trying to be set on a copy of a slice from a DataFrame.\n",
      "Try using .loc[row_indexer,col_indexer] = value instead\n",
      "\n",
      "See the caveats in the documentation: https://pandas.pydata.org/pandas-docs/stable/user_guide/indexing.html#returning-a-view-versus-a-copy\n",
      "  df['AAPL_Px_50MA_forward'] = df['AAPL_Px_50MA'].shift(-50)\n"
     ]
    },
    {
     "name": "stdout",
     "output_type": "stream",
     "text": [
      "Feature Combination 1: ['AAPL_Px'] - R-squared: 0.9402952128955915\n",
      "Feature Combination 2: ['AAPL_Px_ret1', 'AAPL_Px_ret5', 'AAPL_Px_ret10', 'AAPL_Px_ret30', 'AAPL_Px_ret60', 'AAPL_Px_ret120', 'AAPL_Px_ret250'] - R-squared: 0.968790588524982\n",
      "Feature Combination 3: ['Quarter', 'Month', 'Monday', 'Tuesday', 'Wednesday', 'Thursday', 'Friday'] - R-squared: 0.9643567115846836\n",
      "Feature Combination 4: ['AAPL_Px_ret1', 'AAPL_Px_ret5', 'AAPL_Px_ret10', 'AAPL_Px_ret30', 'AAPL_Px_ret60', 'AAPL_Px_ret120', 'AAPL_Px_ret250', 'Quarter', 'Month', 'Monday', 'Tuesday', 'Wednesday', 'Thursday', 'Friday'] - R-squared: 0.9800479442254664\n",
      "Feature Combination 5: ['AAPL_Px_ret1'] - R-squared: -0.4826017030040053\n"
     ]
    }
   ],
   "source": [
    "from sklearn.metrics import r2_score\n",
    "from sklearn.ensemble import RandomForestRegressor\n",
    "from sklearn.model_selection import train_test_split\n",
    "\n",
    "df = training_set.dropna()\n",
    "df['AAPL_Px_50MA_forward'] = df['AAPL_Px_50MA'].shift(-50)\n",
    "df = df.dropna()\n",
    "X = df.drop(['Date', 'Day', 'Year', 'AAPL_ret_f1'], axis=1)\n",
    "# y = df['AAPL_ret_f1']\n",
    "y = df['AAPL_Px_50MA_forward'].dropna()\n",
    "\n",
    "# Define a list of feature combinations to try\n",
    "feature_combinations = [\n",
    "    ['AAPL_Px'],\n",
    "    ['AAPL_Px_ret1', 'AAPL_Px_ret5', 'AAPL_Px_ret10', 'AAPL_Px_ret30', 'AAPL_Px_ret60', 'AAPL_Px_ret120', 'AAPL_Px_ret250'],\n",
    "    ['Quarter', 'Month', 'Monday', 'Tuesday', 'Wednesday', 'Thursday', 'Friday'],\n",
    "    ['AAPL_Px_ret1', 'AAPL_Px_ret5', 'AAPL_Px_ret10', 'AAPL_Px_ret30', 'AAPL_Px_ret60', 'AAPL_Px_ret120', 'AAPL_Px_ret250', 'Quarter', 'Month', 'Monday', 'Tuesday', 'Wednesday', 'Thursday', 'Friday'],\n",
    "    ['AAPL_Px_ret1'],\n",
    "    # Add more feature combinations as needed\n",
    "]\n",
    "\n",
    "regressor = RandomForestRegressor()\n",
    "# Train and evaluate the model for each feature combination\n",
    "for i, features in enumerate(feature_combinations):\n",
    "    X_subset = X[features]\n",
    "    X_train, X_test, y_train, y_test = train_test_split(X_subset, y, test_size=0.4, random_state=42)\n",
    "    regressor.fit(X_train, y_train)\n",
    "    y_pred = regressor.predict(X_test)\n",
    "    r_squared = r2_score(y_test, y_pred)\n",
    "    print(f\"Feature Combination {i + 1}: {features} - R-squared: {r_squared}\")"
   ]
  },
  {
   "cell_type": "markdown",
   "metadata": {},
   "source": [
    "Since we didn't find any correlation between different features with forward one-day return, we will use \"AAPL_Px_50MA_forward\" as the prediction target."
   ]
  },
  {
   "cell_type": "markdown",
   "metadata": {},
   "source": [
    "# Modeling"
   ]
  },
  {
   "cell_type": "markdown",
   "metadata": {},
   "source": [
    "### Random Forest"
   ]
  },
  {
   "cell_type": "code",
   "execution_count": 76,
   "metadata": {},
   "outputs": [],
   "source": [
    "from sklearn.ensemble import RandomForestRegressor\n",
    "from sklearn.metrics import mean_squared_error, r2_score\n",
    "from sklearn.model_selection import cross_val_score\n",
    "\n",
    "\n",
    "# We should re-read the df, since we fit the model in feature engineering section \n",
    "df = training_set.dropna()\n",
    "X = df.drop(['Date', 'Day', 'Year', 'AAPL_ret_f1'], axis=1)\n",
    "y = df['AAPL_ret_f1']\n",
    "\n",
    "# Create Random Forest Regressor object\n",
    "regressor = RandomForestRegressor()\n",
    "\n",
    "cv_scores = cross_val_score(regressor, X, y, cv=5, scoring='r2')"
   ]
  },
  {
   "cell_type": "markdown",
   "metadata": {},
   "source": [
    "# Evaluation & Measurement\n",
    "## Model evaluation"
   ]
  },
  {
   "cell_type": "code",
   "execution_count": 77,
   "metadata": {},
   "outputs": [
    {
     "name": "stdout",
     "output_type": "stream",
     "text": [
      "[-0.03309451  0.13322522  0.19181239  0.15372315  0.17189982]\n"
     ]
    }
   ],
   "source": [
    "print(cv_scores)"
   ]
  },
  {
   "cell_type": "markdown",
   "metadata": {},
   "source": [
    "### Testing on Holdout set"
   ]
  },
  {
   "cell_type": "code",
   "execution_count": 82,
   "metadata": {},
   "outputs": [
    {
     "name": "stdout",
     "output_type": "stream",
     "text": [
      "[-0.00120862  0.11813528  0.0944133   0.22250728  0.07728188  0.14507125\n",
      "  0.09125062  0.15653517  0.22554504  0.23982383]\n",
      "0.137\n"
     ]
    }
   ],
   "source": [
    "# holdout_set = holdout_set.dropna()\n",
    "df = holdout_set.dropna()\n",
    "X = df.drop(['Date', 'Day', 'Year', 'AAPL_ret_f1'], axis=1)\n",
    "y = df['AAPL_ret_f1']\n",
    "cv_scores_holdout = cross_val_score(regressor, X, y, cv=10, scoring='r2')\n",
    "print(cv_scores_holdout)\n",
    "print(cv_scores_holdout.mean().round(3))"
   ]
  },
  {
   "cell_type": "markdown",
   "metadata": {},
   "source": [
    "The model performed pretty good on the holdout set, with an average R-Squared value of 0.137"
   ]
  },
  {
   "cell_type": "markdown",
   "metadata": {},
   "source": [
    "## Strategy performance measurement\n",
    "### Metrics\n",
    "**Sharpe ratio, Maximum Dropdown, Alpha and Beta**"
   ]
  },
  {
   "cell_type": "code",
   "execution_count": null,
   "metadata": {},
   "outputs": [
    {
     "name": "stdout",
     "output_type": "stream",
     "text": [
      "Daily Sharpe Ratio: 0.06877949987336085\n",
      "Annualized Sharpe Ratio: 1.091840711785868\n"
     ]
    }
   ],
   "source": []
  },
  {
   "cell_type": "markdown",
   "metadata": {},
   "source": [
    "### Equity Graph"
   ]
  },
  {
   "cell_type": "code",
   "execution_count": null,
   "metadata": {},
   "outputs": [],
   "source": []
  }
 ],
 "metadata": {
  "kernelspec": {
   "display_name": "env",
   "language": "python",
   "name": "python3"
  },
  "language_info": {
   "codemirror_mode": {
    "name": "ipython",
    "version": 3
   },
   "file_extension": ".py",
   "mimetype": "text/x-python",
   "name": "python",
   "nbconvert_exporter": "python",
   "pygments_lexer": "ipython3",
   "version": "3.8.6"
  }
 },
 "nbformat": 4,
 "nbformat_minor": 2
}
